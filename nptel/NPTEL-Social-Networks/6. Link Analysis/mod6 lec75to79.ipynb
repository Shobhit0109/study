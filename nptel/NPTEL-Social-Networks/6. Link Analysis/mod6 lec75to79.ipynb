{
 "cells": [
  {
   "cell_type": "markdown",
   "metadata": {},
   "source": [
    "## Lec75 Link Analysis : The Web Graph\n",
    "\n",
    "<img src = \"lec75_1.png\">\n",
    "<img src = \"lec75_2.png\">\n",
    "\n",
    "Google -> Web Graph\n",
    "\n",
    "<img src = \"lec75_3.png\">"
   ]
  },
  {
   "cell_type": "markdown",
   "metadata": {},
   "source": [
    "## Lec76 Link Analysis : Collecting the Web Graph\n",
    "\n",
    "<img src = \"lec76_1.png\">\n",
    "<img src = \"lec76_2.png\">\n",
    "\n",
    "### RANDOM WALK :\n",
    "---\n",
    "<img src = \"lec76_3.png\">\n",
    "Lets us verify with python\n"
   ]
  },
  {
   "cell_type": "code",
   "execution_count": null,
   "metadata": {
    "collapsed": true
   },
   "outputs": [],
   "source": []
  },
  {
   "cell_type": "markdown",
   "metadata": {},
   "source": [
    "## Lec77 Link Analysis : Equal Coin Distribution\n",
    "\n",
    "<img src = \"lec77_1.png\">\n",
    "<img src = \"lec77_2.png\">\n",
    "\n",
    "<img src = \"lec77_3.png\">\n",
    "<img src = \"lec77_4.png\">\n",
    "Keep Changing...........\n",
    "\n",
    "At one stage the graph converges and the one who has the highest degree will be given the first rank"
   ]
  },
  {
   "cell_type": "markdown",
   "metadata": {},
   "source": [
    "## Lec78 Link Analysis : Random Coin Dropping\n",
    "\n",
    "<img src = \"lec78_1.png\">\n",
    "### In slightly different way\n",
    "<img src = \"lec78_2.png\">\n",
    "Not only first rank, all other postions are also same as the previous strategy (Some Mathematical Reason)\n",
    "i.e. Equal Sharing and Random Dropping yield the same results\n",
    "----\n",
    "#### Equal sharing:\n",
    "----\n",
    "<img src = \"lec78_3.png\">\n",
    "You are famous if someone who is famous says you famous............\n",
    "----\n",
    "<img src = \"lec78_4.png\">\n",
    "Cousin should be pointed by many(and also rich/famous) and should also point to less..\n",
    "\n"
   ]
  },
  {
   "cell_type": "markdown",
   "metadata": {},
   "source": [
    "## Lec79 Link Analysis : Google Page Ranking using Web Graph\n",
    "\n",
    "<img src = \"lec79_1.png\">"
   ]
  }
 ],
 "metadata": {
  "kernelspec": {
   "display_name": "Python 2",
   "language": "python",
   "name": "python2"
  },
  "language_info": {
   "codemirror_mode": {
    "name": "ipython",
    "version": 2
   },
   "file_extension": ".py",
   "mimetype": "text/x-python",
   "name": "python",
   "nbconvert_exporter": "python",
   "pygments_lexer": "ipython2",
   "version": "2.7.13"
  }
 },
 "nbformat": 4,
 "nbformat_minor": 2
}
