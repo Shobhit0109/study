{
 "cells": [
  {
   "cell_type": "markdown",
   "metadata": {},
   "source": [
    "## Lec41 Introduction to Homophily\n",
    "\n",
    "* Obesity, happiness and energy levels are contagious\n",
    "* Happiness is contagious to 3 levels\n",
    "\n",
    "## Lec42 Selection and Social Influence\n",
    "#### How do we choose friends?\n",
    "pick 'our types' or pick and become 'their types'\n",
    "\n",
    "* selection - She speak french and I speak french\n",
    "* Social Influence - Smoking, eating junk food, drinking, partying\n",
    "\n",
    "## Lec43 Interplay between selection and social influence\n",
    "* wikipedia -> TrustWorthy(user talk page - content discussion)\n",
    "* similarity measure => no. of common items / Total no. of items\n",
    "<img src = \"lec43_1.png\">\n",
    "<img src = \"lec43_2.png\">\n",
    "<img src = \"lec43_3.png\">\n"
   ]
  },
  {
   "cell_type": "markdown",
   "metadata": {},
   "source": [
    "## Lec 44 Homophily Definition and Measurement\n",
    "<img src = \"lec44_1.png\">\n",
    "<img src = \"lec44_2.png\">\n",
    "<img src = \"lec44_3.png\">\n",
    "<img src = \"lec44_4.png\">\n",
    "<img src = \"lec44_5.png\">\n",
    "<img src = \"lec44_6.png\">"
   ]
  },
  {
   "cell_type": "markdown",
   "metadata": {},
   "source": [
    "## Lec 45 Foci closure and membership closure\n",
    "<img src = \"lec45_1.png\">"
   ]
  }
 ],
 "metadata": {
  "kernelspec": {
   "display_name": "Python 2",
   "language": "python",
   "name": "python2"
  },
  "language_info": {
   "codemirror_mode": {
    "name": "ipython",
    "version": 2
   },
   "file_extension": ".py",
   "mimetype": "text/x-python",
   "name": "python",
   "nbconvert_exporter": "python",
   "pygments_lexer": "ipython2",
   "version": "2.7.13"
  }
 },
 "nbformat": 4,
 "nbformat_minor": 2
}
