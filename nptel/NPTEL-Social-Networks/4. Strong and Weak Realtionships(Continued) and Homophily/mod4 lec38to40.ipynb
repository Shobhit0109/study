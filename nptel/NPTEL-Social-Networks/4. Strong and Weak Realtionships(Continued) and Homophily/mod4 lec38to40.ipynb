{
 "cells": [
  {
   "cell_type": "markdown",
   "metadata": {},
   "source": [
    "## Lec38 Strong and Weak relationships and Homophily -- Tie Strength, social media & Passive Engagement\n",
    "\n",
    "* Passive Engagement -> not in direct touch(May be thro' FB)\n",
    "#### Communication types of FB\n",
    "1. One Way (No reply)\n",
    "2. Mutual/ 2 way/ reciprocal\n",
    "3. Maintained Relationship/ Passive => Follow, Like, Comment\n",
    "<img src=\"lec38_1.png\">\n",
    "#### Communication types of Twitter\n",
    "1. Strong(mutual)\n",
    "2. Weak\n",
    "<img src=\"lec38_2.png\">\n",
    "<br>\n",
    "\n",
    "## Lec39 Betweeness Measures and graph partitioning\n",
    "* Community - Bunch of nodes with lot of connections within and less connections between...(This partioning is called as Community partitioning)\n",
    "* Betweeness = Total no. of shortest paths pass from S to T through this edge / Total no. of shortest paths between S and T\n",
    "<img src=\"lec39_1.png\">\n",
    "\n",
    "* Betweeness of edges connecting groups is high\n",
    "#### Steps to identify the groups\n",
    "1. Find the edges with high betweeness\n",
    "2. Remove those edges\n",
    "3. if graph is disconneted:\n",
    "    No. of partitions = No. of groups\n",
    "   <br>else:\n",
    "    No groups\n",
    "    \n",
    "<br>\n",
    "## Lec40 Strong and Weak relationships Summary\n"
   ]
  }
 ],
 "metadata": {
  "kernelspec": {
   "display_name": "Python 2",
   "language": "python",
   "name": "python2"
  },
  "language_info": {
   "codemirror_mode": {
    "name": "ipython",
    "version": 2
   },
   "file_extension": ".py",
   "mimetype": "text/x-python",
   "name": "python",
   "nbconvert_exporter": "python",
   "pygments_lexer": "ipython2",
   "version": "2.7.13"
  }
 },
 "nbformat": 4,
 "nbformat_minor": 2
}
