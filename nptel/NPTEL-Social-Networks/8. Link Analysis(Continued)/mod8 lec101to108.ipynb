{
 "cells": [
  {
   "cell_type": "markdown",
   "metadata": {},
   "source": [
    "# Lec101 : Link Analysis(Continued) - Intro to Hubs and Authorities (A Story)\n",
    "\n",
    "<img src = \"lec101_1.png\">\n",
    "<img src = \"lec101_2.png\">\n",
    "<img src = \"lec101_3.png\">"
   ]
  },
  {
   "cell_type": "markdown",
   "metadata": {},
   "source": [
    "# Lec102 : Link Analysis(Continued) - Principle of Repeated Improvement (A story)\n",
    "\n",
    "<img src = \"lec102_1.png\">\n",
    "<img src = \"lec102_2.png\">\n",
    "<img src = \"lec102_3.png\">\n",
    "<img src = \"lec102_4.png\">"
   ]
  },
  {
   "cell_type": "markdown",
   "metadata": {},
   "source": [
    "# Lec103 : Link Analysis(Continued) - Principle of Repeated Environment (An Example)\n",
    "\n",
    "<img src = \"lec103_1.png\">\n",
    "\n",
    "### Refer PrincipleOfRepeatedEnvironment.ods\n",
    "\n",
    "<img src = \"lec103_2.png\">\n",
    "<img src = \"lec103_3.png\">"
   ]
  },
  {
   "cell_type": "markdown",
   "metadata": {},
   "source": [
    "# Lec104 : Link Analysis(Continued) - Hubs and Authorities\n",
    "\n",
    "<img src = \"lec104_1.png\">\n",
    "<img src = \"lec104_2.png\">\n",
    "<img src = \"lec104_3.png\">\n",
    "<img src = \"lec104_4.png\">"
   ]
  },
  {
   "cell_type": "markdown",
   "metadata": {},
   "source": [
    "# Lec105 : Link Analysis(Continued) - Page Rank Revisited (An Example)\n",
    "\n",
    "<img src = \"lec105_1.png\">\n",
    "<img src = \"lec105_2.png\">\n",
    " "
   ]
  },
  {
   "cell_type": "markdown",
   "metadata": {},
   "source": [
    "# Lec106 : Link Analysis(Continued) - Page Rank Revisited (Convergence - An Example)\n",
    "\n",
    "### Refer PageRankConvergence.ods\n",
    "\n",
    "<img src = \"lec106_1.png\">\n",
    "<img src = \"lec106_2.png\">"
   ]
  },
  {
   "cell_type": "markdown",
   "metadata": {},
   "source": [
    "# Lec107 : Link Analysis (Continued) - Page Rank Revisited - Conservation and Convergence\n",
    "\n",
    "<img src = \"lec107_1.png\">\n",
    "\n",
    "* Here Graph does not converge **always**"
   ]
  },
  {
   "cell_type": "markdown",
   "metadata": {},
   "source": [
    "# Lec108 : Link Analysis (Continued) - Page Rank, Conservation and Convergence (Another Example)\n",
    "\n",
    "<img src = \"lec108_1.png\">\n",
    "\n",
    "### Refer PRConservationAndConvergence.ods\n",
    "\n",
    "<img src = \"lec108_2.png\">\n",
    "<img src = \"lec108_3.png\">"
   ]
  }
 ],
 "metadata": {
  "kernelspec": {
   "display_name": "Python 2",
   "language": "python",
   "name": "python2"
  },
  "language_info": {
   "codemirror_mode": {
    "name": "ipython",
    "version": 2
   },
   "file_extension": ".py",
   "mimetype": "text/x-python",
   "name": "python",
   "nbconvert_exporter": "python",
   "pygments_lexer": "ipython2",
   "version": "2.7.13"
  }
 },
 "nbformat": 4,
 "nbformat_minor": 2
}
