{
 "cells": [
  {
   "cell_type": "markdown",
   "metadata": {},
   "source": [
    "# Lec159 : How to go viral on web? - PseudoCores : Introduction\n",
    "\n",
    "<img src=\"lec159_1.png\" alt=\"Img not found\">\n",
    "<img src=\"lec159_2.png\" alt=\"Img not found\">\n",
    "<img src=\"lec159_3.png\" alt=\"Img not found\">\n",
    "<img src=\"lec159_4.png\" alt=\"Img not found\">"
   ]
  },
  {
   "cell_type": "markdown",
   "metadata": {},
   "source": [
    "# Lec160 : How to go viral on web? - How to be viral?\n",
    "\n",
    "* Going popular in current scenario is very difficult\n",
    "\n",
    "<img src=\"lec160_1.png\" alt=\"Img not found\">\n",
    "<img src=\"lec160_2.png\" alt=\"Img not found\">"
   ]
  },
  {
   "cell_type": "markdown",
   "metadata": {},
   "source": [
    "# Lec161 : How to go viral on web? - Who are the right key nodes?\n",
    "\n",
    "<img src=\"lec161_1.png\" alt=\"Img not found\">\n",
    "<img src=\"lec161_2.png\" alt=\"Img not found\">"
   ]
  },
  {
   "cell_type": "markdown",
   "metadata": {},
   "source": [
    "# Lec162 : How to go viral on web? - Finding the right key nodes (the core)\n",
    "\n",
    "<img src=\"lec162_1.png\" alt=\"Img not found\">\n",
    "<img src=\"lec162_2.png\" alt=\"Img not found\">\n",
    "<img src=\"lec162_3.png\" alt=\"Img not found\">\n",
    "<img src=\"lec162_4.png\" alt=\"Img not found\">\n",
    "<img src=\"lec162_5.png\" alt=\"Img not found\">\n",
    "<img src=\"lec162_6.png\" alt=\"Img not found\">\n",
    "<img src=\"lec162_7.png\" alt=\"Img not found\">\n",
    "<img src=\"lec162_8.png\" alt=\"Img not found\">\n",
    "<img src=\"lec162_9.png\" alt=\"Img not found\">\n",
    "<img src=\"lec162_10.png\" alt=\"Img not found\">"
   ]
  },
  {
   "cell_type": "markdown",
   "metadata": {},
   "source": [
    "# Lec163 : How to go viral on web? - Coding K shell decomposition\n",
    "\n",
    "<img src=\"lec163_1.png\" alt=\"Img not found\">\n",
    "coding -> REFER VIDEO\n"
   ]
  },
  {
   "cell_type": "markdown",
   "metadata": {},
   "source": [
    "# Lec164 : How to go viral on web? - Coding Cascading Model\n",
    "\n",
    "<img src=\"lec164_1.png\" alt=\"Img not found\">\n",
    "<img src=\"lec164_2.png\" alt=\"Img not found\">\n",
    "<img src=\"lec164_3.png\" alt=\"Img not found\">\n",
    "<img src=\"lec164_4.png\" alt=\"Img not found\">\n",
    "<img src=\"lec164_5.png\" alt=\"Img not found\">\n",
    "<img src=\"lec164_6.png\" alt=\"Img not found\">\n",
    "<img src=\"lec164_7.png\" alt=\"Img not found\">\n",
    "<img src=\"lec164_8.png\" alt=\"Img not found\">\n",
    "coding -> REFER VIDEO\n",
    "\n"
   ]
  },
  {
   "cell_type": "markdown",
   "metadata": {},
   "source": [
    "# Lec165 : How to go viral on web? - Coding the importance of core nodes in Cascading\n",
    "\n",
    "<img src=\"lec165_1.png\" alt=\"Img not found\">\n",
    "<img src=\"lec165_2.png\" alt=\"Img not found\">\n",
    "<img src=\"lec165_3.png\" alt=\"Img not found\">\n",
    "coding -> REFER VIDEO"
   ]
  },
  {
   "cell_type": "markdown",
   "metadata": {},
   "source": [
    "# Lec166 : How to go viral on web? - PseudoCore\n",
    "\n",
    "<img src=\"lec166_1.png\" alt=\"Img not found\">\n",
    "<img src=\"lec166_2.png\" alt=\"Img not found\">\n",
    "\n",
    "### CASCADE CAPACITY of the shell -> Number of cells infected at the end if we start our casade from that shell.\n",
    "\n",
    "* x axis -> shell number, y axis -> cascade capacity (Starts increasing and becomes saturated---------------)\n",
    "* Pseudo-cores are the nodes which do not belong to the innermost core of the network but have equal spreading power (cascade capacity) as the innermost core.\n"
   ]
  },
  {
   "cell_type": "code",
   "execution_count": 2,
   "metadata": {
    "collapsed": false
   },
   "outputs": [
    {
     "name": "stdout",
     "output_type": "stream",
     "text": [
      "THE END\n"
     ]
    },
    {
     "data": {
      "text/plain": [
       "'****************************************************************************************************'"
      ]
     },
     "execution_count": 2,
     "metadata": {},
     "output_type": "execute_result"
    }
   ],
   "source": [
    "print \"THE END\"\n",
    "'*'*100"
   ]
  }
 ],
 "metadata": {
  "kernelspec": {
   "display_name": "Python 2",
   "language": "python",
   "name": "python2"
  },
  "language_info": {
   "codemirror_mode": {
    "name": "ipython",
    "version": 2
   },
   "file_extension": ".py",
   "mimetype": "text/x-python",
   "name": "python",
   "nbconvert_exporter": "python",
   "pygments_lexer": "ipython2",
   "version": "2.7.13"
  }
 },
 "nbformat": 4,
 "nbformat_minor": 2
}
