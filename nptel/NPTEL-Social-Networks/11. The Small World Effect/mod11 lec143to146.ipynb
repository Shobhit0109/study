{
 "cells": [
  {
   "cell_type": "markdown",
   "metadata": {},
   "source": [
    "# Lec143 The Small World Effect : Small World Effect - An Intro\n",
    "\n",
    "<img src = \"lec143_1.png\" alt=\"IMG NOT FOUND\">\n",
    "<img src = \"lec143_2.png\" alt=\"IMG NOT FOUND\">\n",
    "<img src = \"lec143_3.png\" alt=\"IMG NOT FOUND\">"
   ]
  },
  {
   "cell_type": "markdown",
   "metadata": {},
   "source": [
    "# Lec144 The Small World Effect : Milgram's Experiment\n",
    "\n",
    "<img src = \"lec144_1.png\" alt=\"IMG NOT FOUND\">\n",
    "<img src = \"lec144_2.png\" alt=\"IMG NOT FOUND\">\n",
    "<img src = \"lec144_3.png\" alt=\"IMG NOT FOUND\">"
   ]
  },
  {
   "cell_type": "markdown",
   "metadata": {},
   "source": [
    "# Lec145 The Small World Effect : Reason\n",
    "\n",
    "<img src = \"lec145_1.png\" alt=\"IMG NOT FOUND\">\n",
    "<img src = \"lec145_2.png\" alt=\"IMG NOT FOUND\">\n",
    "<img src = \"lec145_3.png\" alt=\"IMG NOT FOUND\">\n",
    "<img src = \"lec145_4.png\" alt=\"IMG NOT FOUND\">\n",
    "<img src = \"lec145_5.png\" alt=\"IMG NOT FOUND\">"
   ]
  },
  {
   "cell_type": "markdown",
   "metadata": {},
   "source": [
    "# Lec146 The Small World Effect : The Generative Models\n",
    "\n",
    "<img src = \"lec146_1.png\" alt=\"IMG NOT FOUND\">\n",
    "<img src = \"lec146_2.png\" alt=\"IMG NOT FOUND\">\n",
    "<img src = \"lec146_3.png\" alt=\"IMG NOT FOUND\">"
   ]
  }
 ],
 "metadata": {
  "kernelspec": {
   "display_name": "Python 2",
   "language": "python",
   "name": "python2"
  },
  "language_info": {
   "codemirror_mode": {
    "name": "ipython",
    "version": 2
   },
   "file_extension": ".py",
   "mimetype": "text/x-python",
   "name": "python",
   "nbconvert_exporter": "python",
   "pygments_lexer": "ipython2",
   "version": "2.7.13"
  }
 },
 "nbformat": 4,
 "nbformat_minor": 2
}
