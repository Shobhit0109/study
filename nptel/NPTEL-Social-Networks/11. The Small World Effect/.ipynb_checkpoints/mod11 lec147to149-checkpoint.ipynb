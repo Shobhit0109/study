{
 "cells": [
  {
   "cell_type": "markdown",
   "metadata": {},
   "source": [
    "# Lec147 The Small World Effect : Decentralized Search 1\n",
    "\n",
    "<img src = \"lec147_1.png\" alt=\"IMG NOT FOUND\">\n",
    "<img src = \"lec147_2.png\" alt=\"IMG NOT FOUND\">\n",
    "<img src = \"lec147_3.png\" alt=\"IMG NOT FOUND\">\n",
    "<img src = \"lec147_4.png\" alt=\"IMG NOT FOUND\">"
   ]
  },
  {
   "cell_type": "markdown",
   "metadata": {},
   "source": [
    "# Lec148 The Small World Effect : Decentralized Search 2\n",
    "\n",
    "<img src = \"lec148_1.png\" alt=\"IMG NOT FOUND\">\n",
    "<img src = \"lec148_2.png\" alt=\"IMG NOT FOUND\">\n",
    "<img src = \"lec148_3.png\" alt=\"IMG NOT FOUND\">\n",
    "Random rewiring is equivalent to the friendship outside the groups.(foreign friendships)\n",
    "<img src = \"lec148_4.png\" alt=\"IMG NOT FOUND\">\n",
    "Is it possible that the letter goes far away to the Target? NO \n",
    "(Eg. many Indian friens, 2 Indonesian Friends, Target : Australia)\n",
    "<img src = \"lec148_5.png\" alt=\"IMG NOT FOUND\">\n",
    "<img src = \"lec148_6.png\" alt=\"IMG NOT FOUND\">"
   ]
  },
  {
   "cell_type": "markdown",
   "metadata": {},
   "source": [
    "# Lec149 The Small World Effect : Decentralized Search 3\n",
    "\n",
    "<img src = \"lec149_1.png\" alt=\"IMG NOT FOUND\">\n",
    "<img src = \"lec149_2.png\" alt=\"IMG NOT FOUND\">\n",
    "<img src = \"lec149_3.png\" alt=\"IMG NOT FOUND\">\n",
    "<img src = \"lec149_4.png\" alt=\"IMG NOT FOUND\">\n",
    "<img src = \"lec149_6.png\" alt=\"IMG NOT FOUND\">\n",
    "<img src = \"lec149_7.png\" alt=\"IMG NOT FOUND\">\n",
    "<img src = \"lec149_8.png\" alt=\"IMG NOT FOUND\">\n",
    "<img src = \"lec149_9.png\" alt=\"IMG NOT FOUND\">\n",
    "<img src = \"lec149_10.png\" alt=\"IMG NOT FOUND\">\n",
    "<img src = \"lec149_11.png\" alt=\"IMG NOT FOUND\">\n",
    "<img src = \"lec149_12.png\" alt=\"IMG NOT FOUND\">"
   ]
  }
 ],
 "metadata": {
  "kernelspec": {
   "display_name": "Python 2",
   "language": "python",
   "name": "python2"
  },
  "language_info": {
   "codemirror_mode": {
    "name": "ipython",
    "version": 2
   },
   "file_extension": ".py",
   "mimetype": "text/x-python",
   "name": "python",
   "nbconvert_exporter": "python",
   "pygments_lexer": "ipython2",
   "version": "2.7.13"
  }
 },
 "nbformat": 4,
 "nbformat_minor": 2
}
