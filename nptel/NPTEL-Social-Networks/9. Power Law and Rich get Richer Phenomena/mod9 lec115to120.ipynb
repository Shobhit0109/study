{
 "cells": [
  {
   "cell_type": "markdown",
   "metadata": {},
   "source": [
    "# Lec115 Rich get Richer Phenomenon : Introduction to Power Law\n",
    "\n",
    "<img src = \"lec115_1.png\" alt = \"IMG NOT FOUND\">\n",
    "<img src = \"lec115_2.png\" alt = \"IMG NOT FOUND\">\n",
    "<img src = \"lec115_3.png\" alt = \"IMG NOT FOUND\">\n",
    "<img src = \"lec115_4.png\" alt = \"IMG NOT FOUND\">\n",
    "<img src = \"lec115_5.png\" alt = \"IMG NOT FOUND\">\n",
    "<img src = \"lec115_6.png\" alt = \"IMG NOT FOUND\">\n",
    "<img src = \"lec115_7.png\" alt = \"IMG NOT FOUND\">\n"
   ]
  },
  {
   "cell_type": "markdown",
   "metadata": {},
   "source": [
    "# Lec116 Rich get Richer Phenomenon : Why do normal distributions appear?\n",
    "\n",
    "<img src = \"lec116_1.png\" alt = \"IMG NOT FOUND\">\n",
    "<img src = \"lec116_2.png\" alt = \"IMG NOT FOUND\">\n",
    "<img src = \"lec116_3.png\" alt = \"IMG NOT FOUND\">\n",
    "<img src = \"lec116_4.png\" alt = \"IMG NOT FOUND\">\n"
   ]
  },
  {
   "cell_type": "markdown",
   "metadata": {},
   "source": [
    "# Lec117 Rich get Richer Phenomenon : Power law emerges in www graph\n",
    "\n",
    "<img src = \"lec117_1.png\" alt = \"IMG NOT FOUND\">\n",
    "<img src = \"lec117_2.png\" alt = \"IMG NOT FOUND\">\n",
    "<img src = \"lec117_3.png\" alt = \"IMG NOT FOUND\">\n"
   ]
  },
  {
   "cell_type": "markdown",
   "metadata": {},
   "source": [
    "# Lec118 Rich get Richer Phenomenon : Detecting the presence of power law\n",
    "\n",
    "<img src = \"lec118_1.png\" alt = \"IMG NOT FOUND\">\n",
    "<img src = \"lec118_2.png\" alt = \"IMG NOT FOUND\">\n",
    "<img src = \"lec118_3.png\" alt = \"IMG NOT FOUND\">\n",
    "<img src = \"lec118_4.png\" alt = \"IMG NOT FOUND\">"
   ]
  },
  {
   "cell_type": "markdown",
   "metadata": {},
   "source": [
    "# Lec119 Rich get Richer Phenomenon : Rich get Richer Phenomenon\n",
    "\n",
    "<img src = \"lec119_1.png\" alt = \"IMG NOT FOUND\">\n",
    "<img src = \"lec119_2.png\" alt = \"IMG NOT FOUND\">\n",
    "<img src = \"lec119_3.png\" alt = \"IMG NOT FOUND\">\n",
    "<img src = \"lec119_4.png\" alt = \"IMG NOT FOUND\">\n",
    "<img src = \"lec119_5.png\" alt = \"IMG NOT FOUND\">\n"
   ]
  },
  {
   "cell_type": "markdown",
   "metadata": {},
   "source": [
    "# Lec120 Rich get Richer Phenomenon : Summary so far\n",
    "\n",
    "<img src = \"lec120_1.png\" alt = \"IMG NOT FOUND\">\n",
    "<img src = \"lec120_2.png\" alt = \"IMG NOT FOUND\">\n"
   ]
  }
 ],
 "metadata": {
  "kernelspec": {
   "display_name": "Python 2",
   "language": "python",
   "name": "python2"
  },
  "language_info": {
   "codemirror_mode": {
    "name": "ipython",
    "version": 2
   },
   "file_extension": ".py",
   "mimetype": "text/x-python",
   "name": "python",
   "nbconvert_exporter": "python",
   "pygments_lexer": "ipython2",
   "version": "2.7.13"
  }
 },
 "nbformat": 4,
 "nbformat_minor": 2
}
