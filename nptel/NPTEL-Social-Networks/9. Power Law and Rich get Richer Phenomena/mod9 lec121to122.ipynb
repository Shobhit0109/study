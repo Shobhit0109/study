{
 "cells": [
  {
   "cell_type": "markdown",
   "metadata": {},
   "source": [
    "# Lec121 Implementing Rich getting Richer Phenomena (Barbasi Albert Model) - I\n",
    "\n",
    " <img src = \"lec121_1.png\" alt = \"IMG NOT FOUND\">\n",
    " <img src = \"lec121_2.png\" alt = \"IMG NOT FOUND\">\n",
    " <img src = \"lec121_3.png\" alt = \"IMG NOT FOUND\">"
   ]
  }
 ],
 "metadata": {
  "kernelspec": {
   "display_name": "Python 2",
   "language": "python",
   "name": "python2"
  },
  "language_info": {
   "codemirror_mode": {
    "name": "ipython",
    "version": 2
   },
   "file_extension": ".py",
   "mimetype": "text/x-python",
   "name": "python",
   "nbconvert_exporter": "python",
   "pygments_lexer": "ipython2",
   "version": "2.7.13"
  }
 },
 "nbformat": 4,
 "nbformat_minor": 2
}
