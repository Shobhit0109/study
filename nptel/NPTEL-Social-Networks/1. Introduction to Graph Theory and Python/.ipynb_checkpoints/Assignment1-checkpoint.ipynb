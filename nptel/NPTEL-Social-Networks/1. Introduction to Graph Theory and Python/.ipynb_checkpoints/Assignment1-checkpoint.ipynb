{
 "cells": [
  {
   "cell_type": "markdown",
   "metadata": {},
   "source": [
    "## Lec7 - Social Networks - The Challenge\n",
    "non-trivial(major, important...)\n",
    "How many total graphs of 50nodes are possible?\n",
    "infinity(2^(50 C 2))\n",
    "## Lec8 - Google page rank - 450 billion\n",
    "## Lec9 - Searching a node in a network\n",
    "log n steps for searching in n nodes(10 steps for 1 billion nodes)\n",
    "## Lec10 - Link Prediction\n",
    "Facebook friend suggestion\n",
    "## Lec11 - Contagions\n",
    "happiness is contagous to two levels\n",
    "if ur friends's frnd is happy, u will be happy\n",
    "## Lec12 - Importance of Acquaintences\n",
    "->a person one knows slightly, but who is not a close friend/familiarity\n",
    "\n",
    "important in getting prospectus spouse, dream jobs \n",
    "## Lec13 - Marketing in social networks\n",
    "product marketing"
   ]
  },
  {
   "cell_type": "code",
   "execution_count": 1,
   "metadata": {
    "collapsed": false
   },
   "outputs": [
    {
     "ename": "IndentationError",
     "evalue": "unexpected indent (<ipython-input-1-e735cc7cec6e>, line 4)",
     "output_type": "error",
     "traceback": [
      "\u001b[0;36m  File \u001b[0;32m\"<ipython-input-1-e735cc7cec6e>\"\u001b[0;36m, line \u001b[0;32m4\u001b[0m\n\u001b[0;31m    a = a * 10\u001b[0m\n\u001b[0m    ^\u001b[0m\n\u001b[0;31mIndentationError\u001b[0m\u001b[0;31m:\u001b[0m unexpected indent\n"
     ]
    }
   ],
   "source": [
    "#Assignment\n",
    "def fun(a):\n",
    "    a = a + 10\n",
    "        a = a * 10\n",
    "    return a\n",
    "fun(2)"
   ]
  },
  {
   "cell_type": "code",
   "execution_count": 2,
   "metadata": {
    "collapsed": false
   },
   "outputs": [
    {
     "data": {
      "text/plain": [
       "5"
      ]
     },
     "execution_count": 2,
     "metadata": {},
     "output_type": "execute_result"
    }
   ],
   "source": [
    "5*1**5"
   ]
  },
  {
   "cell_type": "code",
   "execution_count": 3,
   "metadata": {
    "collapsed": false
   },
   "outputs": [
    {
     "data": {
      "text/plain": [
       "[1, 2, 3, 4, 5, 5, 4, 3, 2, 1]"
      ]
     },
     "execution_count": 3,
     "metadata": {},
     "output_type": "execute_result"
    }
   ],
   "source": [
    "[1, 2, 3, 4, 5] + [5, 4, 3, 2, 1]"
   ]
  },
  {
   "cell_type": "code",
   "execution_count": 4,
   "metadata": {
    "collapsed": false
   },
   "outputs": [
    {
     "data": {
      "text/plain": [
       "1501695905.682879"
      ]
     },
     "execution_count": 4,
     "metadata": {},
     "output_type": "execute_result"
    }
   ],
   "source": [
    "import time\n",
    "time.time()"
   ]
  },
  {
   "cell_type": "code",
   "execution_count": 8,
   "metadata": {
    "collapsed": false
   },
   "outputs": [
    {
     "name": "stdout",
     "output_type": "stream",
     "text": [
      "7\n",
      "[1, 8, 20, 15, 2, 10, 1, 23]\n"
     ]
    }
   ],
   "source": [
    "l1 = [1, 7, 8, 20, 15, 2, 10, 1, 23]\n",
    "print l1.pop(1)#popa the eleemrt at the given position\n",
    "print l1"
   ]
  },
  {
   "cell_type": "code",
   "execution_count": 19,
   "metadata": {
    "collapsed": true
   },
   "outputs": [],
   "source": [
    "import networkx as nx\n",
    "import matplotlib.pyplot as plt\n",
    "G = nx.Graph()\n",
    "G.add_nodes_from?"
   ]
  },
  {
   "cell_type": "code",
   "execution_count": 21,
   "metadata": {
    "collapsed": false
   },
   "outputs": [
    {
     "name": "stdout",
     "output_type": "stream",
     "text": [
      "[(1, 2)]\n"
     ]
    },
    {
     "data": {
      "image/png": "[encoded data removed]",
      "text/plain": [
       "<matplotlib.figure.Figure at 0x7f5402ae2e90>"
      ]
     },
     "metadata": {},
     "output_type": "display_data"
    }
   ],
   "source": [
    "#What is the syntax to access an attribute `weight' of an edge (1,2) in a graph G?\n",
    "for i in range(3):\n",
    "    G.add_node(i)\n",
    "G.add_edge(1, 2, weight = 2)\n",
    "print G.edges()\n",
    "pos = nx.circular_layout(G)\n",
    "nx.draw(G, pos, with_labels=1)\n",
    "nx.draw_networkx_edge_labels(G, pos)\n",
    "plt.show()"
   ]
  },
  {
   "cell_type": "code",
   "execution_count": 25,
   "metadata": {
    "collapsed": false
   },
   "outputs": [
    {
     "name": "stdout",
     "output_type": "stream",
     "text": [
      "{'weight': 2}\n",
      "2\n"
     ]
    }
   ],
   "source": [
    "#print G[1, 2] #err\n",
    "#print G(1, 2) #err\n",
    "print G[1][2]\n",
    "print G[1][2]['weight']"
   ]
  },
  {
   "cell_type": "code",
   "execution_count": 26,
   "metadata": {
    "collapsed": false
   },
   "outputs": [
    {
     "name": "stdout",
     "output_type": "stream",
     "text": [
      "{0: 0, 1: 1, 2: 1}\n",
      "{0: 0, 1: 1, 2: 1}\n"
     ]
    }
   ],
   "source": [
    "#To access a dictionary having the degrees of each node in a graph 'G', we can use:\n",
    "print nx.degree(G)\n",
    "print G.degree()"
   ]
  },
  {
   "cell_type": "code",
   "execution_count": 27,
   "metadata": {
    "collapsed": true
   },
   "outputs": [],
   "source": [
    "#In the context of freeze(G) function of Networkx, choose the True statement out of the following.\n",
    "nx.freeze?"
   ]
  },
  {
   "cell_type": "code",
   "execution_count": 30,
   "metadata": {
    "collapsed": false
   },
   "outputs": [
    {
     "name": "stdout",
     "output_type": "stream",
     "text": [
      "Object `G.draw_networkx_labels` not found.\n"
     ]
    }
   ],
   "source": [
    "#Font size of the labels of nodes can be changed using which of the following functions?\n",
    "nx.draw_networkx_labels?\n",
    "#G.draw_networkx_labels? #error"
   ]
  }
 ],
 "metadata": {
  "kernelspec": {
   "display_name": "Python 2",
   "language": "python",
   "name": "python2"
  },
  "language_info": {
   "codemirror_mode": {
    "name": "ipython",
    "version": 2
   },
   "file_extension": ".py",
   "mimetype": "text/x-python",
   "name": "python",
   "nbconvert_exporter": "python",
   "pygments_lexer": "ipython2",
   "version": "2.7.13"
  }
 },
 "nbformat": 4,
 "nbformat_minor": 2
}
