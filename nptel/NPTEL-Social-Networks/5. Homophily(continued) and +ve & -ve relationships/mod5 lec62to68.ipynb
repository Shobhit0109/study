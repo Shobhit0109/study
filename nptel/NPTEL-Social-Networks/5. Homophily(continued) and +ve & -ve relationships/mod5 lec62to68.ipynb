{
 "cells": [
  {
   "cell_type": "markdown",
   "metadata": {},
   "source": [
    "## Lec62 +ve and -ve relationships : Introduction\n",
    "\n",
    "<img src = \"lec62_1.png\">\n"
   ]
  },
  {
   "cell_type": "markdown",
   "metadata": {},
   "source": [
    "## Lec63 +ve and -ve relationships : Structural Balance\n",
    "\n",
    "<img src = \"lec63_1.png\">\n",
    "<img src = \"lec63_2.png\"><img src = \"lec63_3.png\">\n",
    "<img src = \"lec63_4.png\">\n",
    "\n",
    "Consider 3 friends A, B, C\n",
    "\n",
    "* case 1 : 3 friendships -> stable\n",
    "* case 2 : 2 friendships and 1 hatred -> unstable (Results in atleast one frienship breakup or to case1)\n",
    "* case 3 : 1 friendship and 2 hatreds -> stable (will continue like this..)\n",
    "* case 4 : 3 hatreds -> unstable (Enemy's enemy is a friend)"
   ]
  },
  {
   "cell_type": "markdown",
   "metadata": {},
   "source": [
    "## Lec64 +ve and -ve relationships : Enemy's enemy is a friend\n",
    "\n",
    "* Struggling together increarses the frienship bond\n",
    "* Sweat Together -> high probability of LOVE :P\n",
    "<img src = \"lec64_1.png\">\n"
   ]
  },
  {
   "cell_type": "markdown",
   "metadata": {},
   "source": [
    "## Lec65 +ve and -ve relationships : Characterizing the structure of balanced networks\n",
    "\n",
    "<img src = \"lec65_1.png\">\n",
    "<img src = \"lec65_2.png\">\n",
    "<img src = \"lec65_3.png\">"
   ]
  },
  {
   "cell_type": "markdown",
   "metadata": {},
   "source": [
    "## Lec66 +ve and -ve relationships : Balance Theorem\n",
    "\n",
    "<img src = \"lec66_1.png\">\n",
    "<img src = \"lec66_2.png\">\n",
    "\n",
    "* In a boxing ring of 4 players in which each has to fight with all others, there will be the evolution of 2 teams due to chaos(4 -> 3 teams -> 2 teams) [E->E is a friend]"
   ]
  },
  {
   "cell_type": "markdown",
   "metadata": {},
   "source": [
    "## Lec67 +ve and -ve relationships : Proof of Balance Theorem\n",
    "\n",
    "#### Structurally Unbalanced Graphs\n",
    "<img src = \"lec67_1.png\">\n",
    "\n",
    "#### Structurally Balanced Graphs\n",
    "* Either All +ve or two clusters(2-ve and 1+ve)\n",
    "<img src = \"lec67_2.png\">\n",
    "<img src = \"lec67_3.png\">\n",
    "\n",
    "---\n",
    "<img src = \"lec67_4.png\">\n",
    "<img src = \"lec67_5.png\">\n",
    "<img src = \"lec67_6.png\">"
   ]
  },
  {
   "cell_type": "markdown",
   "metadata": {},
   "source": [
    "## Lec68 +ve and -ve relationships : Signed Networks\n",
    "<img src = \"lec68_1.png\">\n",
    "<img src = \"lec68_2.png\">\n",
    "<img src = \"lec68_3.png\">\n",
    "<img src = \"lec68_4.png\">\n"
   ]
  }
 ],
 "metadata": {
  "kernelspec": {
   "display_name": "Python 2",
   "language": "python",
   "name": "python2"
  },
  "language_info": {
   "codemirror_mode": {
    "name": "ipython",
    "version": 2
   },
   "file_extension": ".py",
   "mimetype": "text/x-python",
   "name": "python",
   "nbconvert_exporter": "python",
   "pygments_lexer": "ipython2",
   "version": "2.7.13"
  }
 },
 "nbformat": 4,
 "nbformat_minor": 2
}
