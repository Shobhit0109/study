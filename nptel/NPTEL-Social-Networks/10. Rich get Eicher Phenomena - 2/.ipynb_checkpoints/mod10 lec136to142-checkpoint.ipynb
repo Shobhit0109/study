{
 "cells": [
  {
   "cell_type": "markdown",
   "metadata": {},
   "source": [
    "# Lec136: Rich get Richer Phenomenon 2 - Basic reproductive number revisited for complex networks\n",
    "\n",
    "<img src=\"lec136_1.png\" alt=\"img not found\">\n",
    "<img src=\"lec136_2.png\" alt=\"img not found\">\n",
    "<img src=\"lec136_3.png\" alt=\"img not found\">"
   ]
  },
  {
   "cell_type": "markdown",
   "metadata": {},
   "source": [
    "# Lec137: Rich get Richer Phenomenon 2 - Percolation Model\n",
    "\n",
    "<img src=\"lec137_1.png\" alt=\"img not found\">\n",
    "<img src=\"lec137_2.png\" alt=\"img not found\">\n",
    "<img src=\"lec137_3.png\" alt=\"img not found\">"
   ]
  },
  {
   "cell_type": "markdown",
   "metadata": {},
   "source": [
    "# Lec138: Rich get Richer Phenomenon 2 - Analysis of basic reproductive number in branching mode (The Problem Statement)\n",
    "\n",
    "<img src=\"lec138_1.png\" alt=\"img not found\">\n",
    "<img src=\"lec138_2.png\" alt=\"img not found\">\n",
    "<img src=\"lec138_3.png\" alt=\"img not found\">\n",
    "<img src=\"lec138_4.png\" alt=\"img not found\">"
   ]
  },
  {
   "cell_type": "markdown",
   "metadata": {},
   "source": [
    "# Lec139: Rich get Richer Phenomenon 2 - Analysing basic reproductive number 2\n",
    "\n",
    "<img src=\"lec139_1.png\" alt=\"img not found\">\n",
    "<img src=\"lec139_2.png\" alt=\"img not found\">\n",
    "<img src=\"lec139_3.png\" alt=\"img not found\">"
   ]
  },
  {
   "cell_type": "markdown",
   "metadata": {},
   "source": [
    "# Lec140: Rich get Richer Phenomenon 2 - Analysing basic reproductive number 3\n",
    "\n",
    "<img src=\"lec140_1.png\" alt=\"img not found\">\n",
    "<img src=\"lec140_2.png\" alt=\"img not found\">\n",
    "<img src=\"lec140_3.png\" alt=\"img not found\">"
   ]
  },
  {
   "cell_type": "markdown",
   "metadata": {},
   "source": [
    "# Lec141: Rich get Richer Phenomenon 2 - Analysing basic reproductive number 4\n",
    "\n",
    "<img src=\"lec141_1.png\" alt=\"img not found\">\n",
    "<img src=\"lec141_2.png\" alt=\"img not found\">\n",
    "<img src=\"lec141_3.png\" alt=\"img not found\">\n",
    "<img src=\"lec141_4.png\" alt=\"img not found\">\n"
   ]
  },
  {
   "cell_type": "markdown",
   "metadata": {},
   "source": [
    "# Lec142: Rich get Richer Phenomenon 2 - Analysing basic reproductive number 5\n",
    "\n",
    "<img src=\"lec142_1.png\" alt=\"img not found\">\n",
    "<img src=\"lec142_2.png\" alt=\"img not found\">\n",
    "<img src=\"lec142_3.png\" alt=\"img not found\">"
   ]
  }
 ],
 "metadata": {
  "kernelspec": {
   "display_name": "Python 2",
   "language": "python",
   "name": "python2"
  },
  "language_info": {
   "codemirror_mode": {
    "name": "ipython",
    "version": 2
   },
   "file_extension": ".py",
   "mimetype": "text/x-python",
   "name": "python",
   "nbconvert_exporter": "python",
   "pygments_lexer": "ipython2",
   "version": "2.7.13"
  }
 },
 "nbformat": 4,
 "nbformat_minor": 2
}
