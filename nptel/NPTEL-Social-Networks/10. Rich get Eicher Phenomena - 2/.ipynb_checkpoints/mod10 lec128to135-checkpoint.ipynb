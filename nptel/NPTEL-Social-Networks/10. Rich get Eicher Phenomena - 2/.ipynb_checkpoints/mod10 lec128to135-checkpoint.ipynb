{
 "cells": [
  {
   "cell_type": "markdown",
   "metadata": {},
   "source": [
    "# Lec 128 Rich get Richer Phenomena - 2 : Epidemics - An Introduction\n",
    "\n",
    "<img src = \"lec128_1.png\" alt = \"IMG NOT FOUND\">\n",
    "<img src = \"lec128_2.png\" alt = \"IMG NOT FOUND\">\n",
    "<img src = \"lec128_3.png\" alt = \"IMG NOT FOUND\">\n",
    "<img src = \"lec128_4.png\" alt = \"IMG NOT FOUND\">\n",
    "<img src = \"lec128_5.png\" alt = \"IMG NOT FOUND\">\n",
    "<img src = \"lec128_6.png\" alt = \"IMG NOT FOUND\">\n",
    "<img src = \"lec128_7.png\" alt = \"IMG NOT FOUND\">"
   ]
  },
  {
   "cell_type": "markdown",
   "metadata": {},
   "source": [
    "# Lec 129 Rich get Richer Phenomena - 2 : (Continued)\n",
    "\n",
    "<img src = \"lec129_1.png\" alt = \"IMG NOT FOUND\">"
   ]
  },
  {
   "cell_type": "markdown",
   "metadata": {},
   "source": [
    "# Lec 130 Rich get Richer Phenomena - 2 : Simple Branching Process for modelling epidemics\n",
    "\n",
    "<img src = \"lec130_1.png\" alt = \"IMG NOT FOUND\">\n",
    "<img src = \"lec130_2.png\" alt = \"IMG NOT FOUND\">\n",
    "<img src = \"lec130_3.png\" alt = \"IMG NOT FOUND\">\n",
    "<img src = \"lec130_4.png\" alt = \"IMG NOT FOUND\">\n",
    "<img src = \"lec130_5.png\" alt = \"IMG NOT FOUND\">"
   ]
  },
  {
   "cell_type": "markdown",
   "metadata": {},
   "source": [
    "# Lec 131 Rich get Richer Phenomena - 2 : Simple Branching Process for modelling epidemics (Continued)\n",
    "\n",
    "<img src = \"lec131_1.png\" alt = \"IMG NOT FOUND\">\n",
    "<img src = \"lec131_2.png\" alt = \"IMG NOT FOUND\">\n",
    "<img src = \"lec131_3.png\" alt = \"IMG NOT FOUND\">"
   ]
  },
  {
   "cell_type": "markdown",
   "metadata": {},
   "source": [
    "# Lec 132 Rich get Richer Phenomena - 2 : Basic Reproductive Number\n",
    "\n",
    "<img src = \"lec132_1.png\" alt = \"IMG NOT FOUND\">\n",
    "<img src = \"lec132_2.png\" alt = \"IMG NOT FOUND\">\n",
    "<img src = \"lec132_3.png\" alt = \"IMG NOT FOUND\">\n",
    "<img src = \"lec132_4.png\" alt = \"IMG NOT FOUND\">\n",
    "\n"
   ]
  },
  {
   "cell_type": "markdown",
   "metadata": {},
   "source": [
    "# Lec 133 Rich get Richer Phenomena - 2 : Modelling Epidemics on Complex Networks\n",
    "\n",
    "<img src = \"lec133_1.png\" alt = \"IMG NOT FOUND\">\n",
    "<img src = \"lec133_2.png\" alt = \"IMG NOT FOUND\">"
   ]
  },
  {
   "cell_type": "markdown",
   "metadata": {},
   "source": [
    "# Lec 134 Rich get Richer Phenomena - 2 : SIR and SIS Spreading Models\n",
    "\n",
    "<img src = \"lec131_1.png\" alt = \"IMG NOT FOUND\">\n",
    "<img src = \"lec134_2.png\" alt = \"IMG NOT FOUND\">\n",
    "<img src = \"lec134_3.png\" alt = \"IMG NOT FOUND\">\n",
    "<img src = \"lec134_4.png\" alt = \"IMG NOT FOUND\">\n",
    "<img src = \"lec134_5.png\" alt = \"IMG NOT FOUND\">\n",
    "<img src = \"lec134_6.png\" alt = \"IMG NOT FOUND\">\n",
    "\n",
    "<img src = \"lec134_7.png\" alt = \"IMG NOT FOUND\">\n",
    "<img src = \"lec134_8.png\" alt = \"IMG NOT FOUND\">"
   ]
  }
 ],
 "metadata": {
  "kernelspec": {
   "display_name": "Python 2",
   "language": "python",
   "name": "python2"
  },
  "language_info": {
   "codemirror_mode": {
    "name": "ipython",
    "version": 2
   },
   "file_extension": ".py",
   "mimetype": "text/x-python",
   "name": "python",
   "nbconvert_exporter": "python",
   "pygments_lexer": "ipython2",
   "version": "2.7.13"
  }
 },
 "nbformat": 4,
 "nbformat_minor": 2
}
