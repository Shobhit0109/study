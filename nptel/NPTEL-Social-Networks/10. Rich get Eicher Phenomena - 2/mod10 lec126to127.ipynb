{
 "cells": [
  {
   "cell_type": "markdown",
   "metadata": {},
   "source": [
    "# Lec 126 Rich get Richer Phenomena - 2 : A possible reason\n",
    "\n",
    "<img src = \"lec126_1.png\" alt = \"IMG NOT FOUND\">\n",
    "<img src = \"lec126_2.png\" alt = \"IMG NOT FOUND\">\n",
    "<img src = \"lec126_3.png\" alt = \"IMG NOT FOUND\">\n",
    "<img src = \"lec126_4.png\" alt = \"IMG NOT FOUND\">\n",
    "<img src = \"lec126_5.png\" alt = \"IMG NOT FOUND\">\n",
    "<img src = \"lec126_6.png\" alt = \"IMG NOT FOUND\">\n",
    "<img src = \"lec126_7.png\" alt = \"IMG NOT FOUND\">\n",
    "<img src = \"lec126_8.png\" alt = \"IMG NOT FOUND\">"
   ]
  },
  {
   "cell_type": "markdown",
   "metadata": {},
   "source": [
    "# Lec 127 Rich get Richer Phenomena - 2 : The Long Tail\n",
    "\n",
    "<img src = \"lec127_1.png\" alt = \"IMG NOT FOUND\">\n",
    "<img src = \"lec127_2.png\" alt = \"IMG NOT FOUND\">\n",
    "<img src = \"lec127_3.png\" alt = \"IMG NOT FOUND\">\n",
    "<img src = \"lec127_4.png\" alt = \"IMG NOT FOUND\">\n",
    "<img src = \"lec127_5.png\" alt = \"IMG NOT FOUND\">"
   ]
  },
  {
   "cell_type": "markdown",
   "metadata": {},
   "source": [
    "\n"
   ]
  }
 ],
 "metadata": {
  "kernelspec": {
   "display_name": "Python 2",
   "language": "python",
   "name": "python2"
  },
  "language_info": {
   "codemirror_mode": {
    "name": "ipython",
    "version": 2
   },
   "file_extension": ".py",
   "mimetype": "text/x-python",
   "name": "python",
   "nbconvert_exporter": "python",
   "pygments_lexer": "ipython2",
   "version": "2.7.13"
  }
 },
 "nbformat": 4,
 "nbformat_minor": 2
}
