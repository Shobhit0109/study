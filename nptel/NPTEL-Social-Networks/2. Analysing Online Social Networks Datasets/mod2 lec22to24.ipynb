{
 "cells": [
  {
   "cell_type": "markdown",
   "metadata": {},
   "source": [
    "## Lec22 Datasets: Analysing using gephi\n",
    "* Gephi is written in Java\n",
    "\n",
    "### Overview Tab\n",
    "* we can manually change th position of nodes\n",
    "* Noverlap layout is used to avoid overlapping of nodes\n",
    "* Ranking of nodes can be done based on the degrees and differentiated either by color or size \n",
    "* **Statistics tab : **average degree, average weighted degree, density, diameter, modularity, page rank, connected component, clustering coefficient,.....\n",
    "\n",
    "\n",
    "### Data Laboratory Tab\n",
    "* Shows data in the tabular format\n",
    "\n",
    "### Preview Tab\n",
    "* Large graph with the beautiful layout\n",
    "* click Refresh to get the new rendered graph\n",
    " "
   ]
  },
  {
   "cell_type": "markdown",
   "metadata": {},
   "source": [
    "## Lec23 Introduction : Emergence of connectedness\n",
    "<img src = \"lec23_1.png\"><br>\n",
    "<img src = \"lec23_2.png\"><br>\n",
    "<img src = \"lec23_3.png\"><br>"
   ]
  },
  {
   "cell_type": "markdown",
   "metadata": {},
   "source": [
    "#### Lec24 Advanced : Emergence of connectedness\n",
    "#### Refer notes in MOOC diary\n",
    "<img src = \"lec24_1.png\"><br>\n",
    "<img src = \"lec24_2.png\"><br>\n",
    "<img src = \"lec24_3.png\"><br>\n",
    "<img src = \"lec24_4.png\"><br>\n",
    "<img src = \"lec24_5.png\"><br>"
   ]
  }
 ],
 "metadata": {
  "kernelspec": {
   "display_name": "Python 2",
   "language": "python",
   "name": "python2"
  },
  "language_info": {
   "codemirror_mode": {
    "name": "ipython",
    "version": 2
   },
   "file_extension": ".py",
   "mimetype": "text/x-python",
   "name": "python",
   "nbconvert_exporter": "python",
   "pygments_lexer": "ipython2",
   "version": "2.7.13"
  }
 },
 "nbformat": 4,
 "nbformat_minor": 2
}
