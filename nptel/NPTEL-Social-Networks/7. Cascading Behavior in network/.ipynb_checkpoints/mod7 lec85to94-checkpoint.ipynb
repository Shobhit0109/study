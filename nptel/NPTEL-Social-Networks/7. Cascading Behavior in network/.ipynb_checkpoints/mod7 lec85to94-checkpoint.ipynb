{
 "cells": [
  {
   "cell_type": "markdown",
   "metadata": {},
   "source": [
    "## Lec87 : Cascading Behavior in Network - We Follow\n",
    "\n",
    "Analogy : Burger(all other pepople eating) and Pizza(I like the most) -> I will order pizza<br>\n",
    "Analogy : We take the way in which the most people move if we don't know the path (Left or Right)<br>\n",
    "People in Lift Video :P"
   ]
  },
  {
   "cell_type": "markdown",
   "metadata": {},
   "source": [
    "## Lec88 : Cascading Behavior in Network - Why would we follow?\n",
    "\n",
    "* Should we follow others in jumping into the well? :P\n",
    "<img src = \"lec88_1.png\">\n",
    "\n",
    "When we follow?<br>\n",
    " \n",
    "* smoking  \n",
    "* Buying Products  \n",
    "* songs (Why this Kolaver di?)\n",
    "\n",
    "Reason : For Explicit Benefits<br>\n",
    "<img src = \"lec88_2.png\">\n",
    "<img src = \"lec88_3.png\">\n",
    "<img src = \"lec88_4.png\">\n"
   ]
  },
  {
   "cell_type": "markdown",
   "metadata": {},
   "source": [
    "## Lec89 : Cascading Behavior in Network - Diffusion in Networks\n",
    "\n",
    "<img src = \"lec89_1.png\">\n",
    "<img src = \"lec89_2.png\">"
   ]
  },
  {
   "cell_type": "markdown",
   "metadata": {},
   "source": [
    "## Lec90 : Cascading Behavior in Network - Modelling Diffusion\n",
    "\n",
    "<img src = \"lec90_1.png\">\n",
    "<img src = \"lec90_2.png\">\n",
    "<img src = \"lec90_3.png\">\n",
    "<img src = \"lec90_4.png\">"
   ]
  },
  {
   "cell_type": "markdown",
   "metadata": {},
   "source": [
    "## Lec91 : Cascading Behavior in Network - Modelling Diffusion (Continued)\n",
    "\n",
    "<img src = \"lec91_1.png\">\n",
    "<img src = \"lec91_2.png\">\n",
    "\n",
    "Social Reinforcemnt -> we decided to go to the library. But more and more people came and ask us to go with them to the mall. Finally we changed our decision. Such a phenomenon is called as Social Reinforcemnt\n",
    "\n",
    "<img src = \"lec91_3.png\">\n",
    "\n",
    "The number of people going outside increased from 2 to many due to social reinforcement\n",
    "<img src = \"lec91_4.png\">\n",
    "\n",
    "At the end, there will be 3 possibilities\n",
    "\n",
    "1. All decidied to go outside \n",
    "2. All decidied to do the assignment \n",
    "3. some decidied to go outside and other decidied to do the assignment "
   ]
  },
  {
   "cell_type": "markdown",
   "metadata": {},
   "source": [
    "## Lec92 : Cascading Behavior in Network - Impact of Communities on Diffusion \n",
    " \n",
    "* If the class has strong communities(weak tie between the groups), then it will result in the 3rd possibilty  \n",
    "<img src = \"lec92_1.png\">\n",
    "\n",
    "---\n",
    "* Starting Trouble in Diffusion : No one will come forward first to use the time machine in the old age.\n",
    "\n",
    "How to Overcome the start trouble?\n",
    "\n",
    "1. Increase the pay-off or\n",
    "2. Selecting few people and make them accept (Eg. Amitabh, Sharukh Khan.....)\n",
    "\n",
    "<img src = \"lec92_2.png\">\n",
    "\n",
    "---\n",
    "Changing the key people in a community can change that entire community\n",
    "\n",
    "<img src = \"lec92_3.png\">\n",
    "\n",
    "----\n",
    "Density = Actual edges/Total Possible Edges\n",
    "* Do density play a role in diffusion?\n",
    "<img src = \"lec92_4.png\">\n",
    "<img src = \"lec92_5.png\">\n",
    "Analogy : Breaking the stick (King and his sons) story\n",
    "Conclusion : Higher the density of the community, it will be diifiction to inject the decision into that community\n"
   ]
  },
  {
   "cell_type": "markdown",
   "metadata": {},
   "source": [
    "## Lec93 : Cascading Behavior in Network - Cascade and Clusters\n",
    "\n",
    "<img src = \"lec93_1.png\">\n",
    "<img src = \"lec93_2.png\">\n",
    "\n",
    "Cluster density, d -> At d fraction of this nodes'(each node's) friends should be in the same cluster\n",
    "\n",
    "<img src = \"lec93_3.png\">\n",
    "\n",
    "Cascade cannot cover the entire network if there exists a cluster of density >(1-q) where q is the threshold of adoption\n",
    "\n",
    "<img src = \"lec93_4.png\">\n",
    "\n",
    "Proof\n",
    "---\n",
    "\n",
    "<img src = \"lec93_5.png\">\n",
    " \n",
    "Revere Statement is alo True : Incomplete Cascade => cluster density > (1-q) "
   ]
  },
  {
   "cell_type": "markdown",
   "metadata": {},
   "source": [
    "## Lec94 : Cascading Behavior in Network - Knowledge, Threshold and the Collective Action\n",
    "\n",
    "Every cluster want to revolt. As there is weak tie between the clusters, each cluster is suspicious about the other cluster. Hence none revolts! (This Divide and Conquer strategy is used in many MNCs)\n",
    "<img src = \"lec93_1.png\">\n",
    "\n",
    "How to model such situations? (Qn. Collectively revolt or not?)\n",
    "---\n",
    "* Individual Threshold - Each person has different intrinsic threshold\n",
    "* Friend's Threshold\n",
    "\n",
    "#### 3 Cases:\n",
    "Threshold - 3 :It needs two more people to join\n",
    "case 1 : No revolt happens because there are no enough people\n",
    "<img src = \"lec93_2.png\">\n",
    "case 1 : No revolt happens because there are not enough friendships for each node. Each node assume their adjacent nodes will not join them(Because they don't about their adjacent node's threshold)\n",
    "<img src = \"lec93_3.png\">\n",
    "case 1 : Revolt can easily happen\n",
    "<img src = \"lec93_4.png\">\n"
   ]
  }
 ],
 "metadata": {
  "kernelspec": {
   "display_name": "Python 2",
   "language": "python",
   "name": "python2"
  },
  "language_info": {
   "codemirror_mode": {
    "name": "ipython",
    "version": 2
   },
   "file_extension": ".py",
   "mimetype": "text/x-python",
   "name": "python",
   "nbconvert_exporter": "python",
   "pygments_lexer": "ipython2",
   "version": "2.7.13"
  }
 },
 "nbformat": 4,
 "nbformat_minor": 2
}
